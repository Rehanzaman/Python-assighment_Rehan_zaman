{
 "cells": [
  {
   "cell_type": "markdown",
   "metadata": {
    "id": "CUdxU51J52Jc"
   },
   "source": [
    "# Topic: print()"
   ]
  },
  {
   "cell_type": "markdown",
   "metadata": {
    "id": "O4XtVMeN52Ji"
   },
   "source": [
    "1) Using the python print function print any string value, integer value, boolean value, float value in single print command"
   ]
  },
  {
   "cell_type": "code",
   "execution_count": 1,
   "metadata": {},
   "outputs": [
    {
     "name": "stdout",
     "output_type": "stream",
     "text": [
      "Rehan 10 True 12.2\n"
     ]
    }
   ],
   "source": [
    "print(\"Rehan\",10,True,12.2)"
   ]
  },
  {
   "cell_type": "markdown",
   "metadata": {
    "id": "iNinlTd052Jr"
   },
   "source": [
    "2) Using the python print function print hyphon(-) separated any string value, integer value, boolean value, float value in single print command"
   ]
  },
  {
   "cell_type": "code",
   "execution_count": 3,
   "metadata": {},
   "outputs": [
    {
     "name": "stdout",
     "output_type": "stream",
     "text": [
      "Rehan-10-True-12.2\n"
     ]
    }
   ],
   "source": [
    "print(\"Rehan\",10,True,12.2,sep=\"-\") "
   ]
  },
  {
   "cell_type": "markdown",
   "metadata": {
    "id": "4fNVS99O52Jt"
   },
   "source": [
    "3) Using the python print function print any string value, integer value, boolean value, float value in separate print command.\n",
    "But every value must be space separated and in single line"
   ]
  },
  {
   "cell_type": "code",
   "execution_count": 5,
   "metadata": {},
   "outputs": [
    {
     "name": "stdout",
     "output_type": "stream",
     "text": [
      "Rehan 12 True 12.2 "
     ]
    }
   ],
   "source": [
    "\n",
    "print(\"Rehan\",end=\" \")\n",
    "print(12,end=\" \")\n",
    "print(True,end=\" \")\n",
    "print(12.2,end=\" \")"
   ]
  },
  {
   "cell_type": "markdown",
   "metadata": {
    "id": "akEUFstT52Jv"
   },
   "source": [
    "4) Can a python print function take no value to print???\n"
   ]
  },
  {
   "cell_type": "code",
   "execution_count": 61,
   "metadata": {},
   "outputs": [
    {
     "name": "stdout",
     "output_type": "stream",
     "text": [
      "\n"
     ]
    }
   ],
   "source": [
    "print() #yes"
   ]
  },
  {
   "cell_type": "markdown",
   "metadata": {
    "id": "vFPOFKW_52Jx"
   },
   "source": [
    "# TOPIC :Variables in Python Operators"
   ]
  },
  {
   "cell_type": "markdown",
   "metadata": {
    "id": "AzBzVODl52Jy"
   },
   "source": [
    "5) One of my friends name is Mr. Ahmed. He is 30 years old.  He is a lawer by profession. He has done his bachelors in law in the year 2005. He is working with a reputable law firm 'The Himalya Associates' in Karachi since 2015.\n",
    "He is a handsome lawer with height of 5.10 feets and weight 70600g. His monthly income is Rs. 200k PKR.\n",
    "\n",
    "Note: Create variables from above text and also assign values from the text.  "
   ]
  },
  {
   "cell_type": "code",
   "execution_count": 7,
   "metadata": {},
   "outputs": [],
   "source": [
    "#Creating Variables. \n",
    "fname=\"Mr.Ahmed\"\n",
    "age=30\n",
    "profession=\"lawer\"\n",
    "degree=\"bachelor in law\"\n",
    "graduation_year=2005\n",
    "law_firm=\"The Himalya Associates\"\n",
    "working_since=2015\n",
    "height=5.10 # in feet\n",
    "weight=70600 # in gram\n",
    "monthly_income=200000 #in PKR"
   ]
  },
  {
   "cell_type": "code",
   "execution_count": 37,
   "metadata": {},
   "outputs": [
    {
     "name": "stdout",
     "output_type": "stream",
     "text": [
      "My friend name is = Mr.Ahmed\n",
      "He is 30 yera old\n",
      "He is a lawer\n",
      "He had done bachelor in law\n",
      "graduation year2005\n",
      "working with The Himalya Associates\n",
      "height : 5.1\n",
      "weight : 70600\n",
      "salary :200000 PKR \n"
     ]
    }
   ],
   "source": [
    "#Assigning value from the text.\n",
    "print (f\"My friend name is = {fname}\")\n",
    "print (f\"He is {age} yera old\")\n",
    "print (f\"He is a {profession}\")\n",
    "print (f\"He had done {degree}\")\n",
    "print (f\"graduation year{graduation_year}\")\n",
    "print (f\"working with {law_firm}\")\n",
    "print (f\"height : {height}\")\n",
    "print (f\"weight : {weight}\")\n",
    "print (f\"salary :{monthly_income} PKR \")\n"
   ]
  },
  {
   "cell_type": "markdown",
   "metadata": {
    "id": "SAQtVyvD52J1"
   },
   "source": [
    "7) How many years has Mr. Ahmed been working with law firm 'The Himalya Associates'. Create necesary variables and print the correct number of years in working in the firm"
   ]
  },
  {
   "cell_type": "code",
   "execution_count": 94,
   "metadata": {},
   "outputs": [
    {
     "name": "stdout",
     "output_type": "stream",
     "text": [
      "He is working since 2015.\n"
     ]
    }
   ],
   "source": [
    "print (f\"He is working since {working_since}.\")"
   ]
  },
  {
   "cell_type": "markdown",
   "metadata": {
    "id": "Gnk1kIUj52J3"
   },
   "source": [
    "8)Convert the monthly income of Mr. Ahmed in dollars.  Create necesary variables and print the income in dollars."
   ]
  },
  {
   "cell_type": "code",
   "execution_count": 102,
   "metadata": {},
   "outputs": [
    {
     "name": "stdout",
     "output_type": "stream",
     "text": [
      "Monthly incomein PKR Rs:200000\n",
      "monthly income in dollar :722 $\n"
     ]
    }
   ],
   "source": [
    "# Assigning the values : creating variables\n",
    "monthly_income=200000 # in PKR\n",
    "one_dollar=277\n",
    "\n",
    "#converting PKR in to Dollar\n",
    "income_in_dollar = monthly_income // one_dollar \n",
    "\n",
    "#display the result : income in to dollar\n",
    "print (f\"Monthly incomein PKR Rs:{monthly_income}\")\n",
    "print (f\"monthly income in dollar :{income_in_dollar} $\")"
   ]
  },
  {
   "cell_type": "markdown",
   "metadata": {
    "id": "Adx4oblF52J4"
   },
   "source": [
    "9) Check if the income in dollars is a float or integer value. if it is float, re-write the code so that income gets converted in integer. print the income in integer type value"
   ]
  },
  {
   "cell_type": "code",
   "execution_count": 166,
   "metadata": {},
   "outputs": [
    {
     "name": "stdout",
     "output_type": "stream",
     "text": [
      "monthly income usd in int is 718\n"
     ]
    }
   ],
   "source": [
    "#existing variables \n",
    "monthly_income_pkr=200000\n",
    "conversion_rate = 278.25\n",
    "\n",
    "#converting to dollar\n",
    "monthly_income_usd=monthly_income_pkr / conversion_rate \n",
    "\n",
    "#checking if the value is float\n",
    "if isinstance(monthly_income_usd,float):\n",
    "    \n",
    "    #Converting to integer\n",
    "    monthly_income_usd = int(monthly_income_usd) \n",
    "    \n",
    "# display value    in int value\n",
    "print(f\"monthly income usd in int is {monthly_income_usd}\")"
   ]
  },
  {
   "cell_type": "raw",
   "metadata": {
    "id": "NcYepWgZ52J5"
   },
   "source": [
    "10) Print the type of Mr. Ahmed's weight. Convert the weight of Mr. Ahmed in kg so that weight must be a integer value."
   ]
  },
  {
   "cell_type": "code",
   "execution_count": 174,
   "metadata": {},
   "outputs": [
    {
     "name": "stdout",
     "output_type": "stream",
     "text": [
      "weight is 70 KG .\n"
     ]
    }
   ],
   "source": [
    "weight_in_g=70600\n",
    "\n",
    "weight_in_KG = int(weight_in_g / 1000)\n",
    "\n",
    "print (f\"weight is {weight_in_KG} KG .\")"
   ]
  },
  {
   "cell_type": "code",
   "execution_count": 1,
   "metadata": {
    "id": "05FU1XHw52J7"
   },
   "outputs": [],
   "source": [
    "#11) print the year of birth of Mr. Ahmed."
   ]
  },
  {
   "cell_type": "code",
   "execution_count": 178,
   "metadata": {
    "id": "paq_3Kg152J8"
   },
   "outputs": [
    {
     "name": "stdout",
     "output_type": "stream",
     "text": [
      "The year of birth of Mr. Ahmed is 1994 .\n"
     ]
    }
   ],
   "source": [
    "#type your code here\n",
    "current_year=2024\n",
    "age=30\n",
    "year_of_birth=current_year-age\n",
    "print (f\"The year of birth of Mr. Ahmed is {year_of_birth} .\")"
   ]
  },
  {
   "cell_type": "markdown",
   "metadata": {
    "id": "eWySSgh552J8"
   },
   "source": [
    "12) Can Rs. 100 be divided equally among 6 students?\n",
    "HINT: % operator (modulo)"
   ]
  },
  {
   "cell_type": "code",
   "execution_count": 3,
   "metadata": {
    "id": "RYc0Ks7g52J-",
    "outputId": "0e2425ca-fbed-4c24-b659-e52ef2d0674e"
   },
   "outputs": [
    {
     "data": {
      "text/plain": [
       "0"
      ]
     },
     "execution_count": 3,
     "metadata": {},
     "output_type": "execute_result"
    }
   ],
   "source": [
    "10%2\n",
    "# 10 is completely divisible by2\n",
    "# 10 is multiple of 2\n",
    "# 2 is a factor of 10\n",
    "# 10 comes in table of 2"
   ]
  },
  {
   "cell_type": "code",
   "execution_count": 180,
   "metadata": {},
   "outputs": [
    {
     "name": "stdout",
     "output_type": "stream",
     "text": [
      "no! it can't\n"
     ]
    }
   ],
   "source": [
    "money=100\n",
    "\n",
    "student =6\n",
    "\n",
    "remainder = money % student\n",
    "\n",
    "if remainder == 0:\n",
    "    print(\"yes! it can be divided equally \")\n",
    "else :\n",
    "    print(\"no! it can't\")"
   ]
  },
  {
   "cell_type": "code",
   "execution_count": null,
   "metadata": {
    "id": "X3ncSwJt52KA"
   },
   "outputs": [],
   "source": []
  }
 ],
 "metadata": {
  "colab": {
   "provenance": []
  },
  "kernelspec": {
   "display_name": "Python 3 (ipykernel)",
   "language": "python",
   "name": "python3"
  },
  "language_info": {
   "codemirror_mode": {
    "name": "ipython",
    "version": 3
   },
   "file_extension": ".py",
   "mimetype": "text/x-python",
   "name": "python",
   "nbconvert_exporter": "python",
   "pygments_lexer": "ipython3",
   "version": "3.12.7"
  }
 },
 "nbformat": 4,
 "nbformat_minor": 4
}
