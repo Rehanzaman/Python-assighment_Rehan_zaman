{
 "cells": [
  {
   "cell_type": "markdown",
   "id": "42396140-0889-48a5-bb2e-92166f5ddbd9",
   "metadata": {},
   "source": [
    "# 1) Check Discount \n",
    "Write a program to check if a customer is eligible for a discount. If the total purchase is more than $100, apply a 10% discount and display the final price. Otherwise, display the total price as it is."
   ]
  },
  {
   "cell_type": "code",
   "execution_count": 3,
   "id": "578f22d6-751a-494c-a73f-8cd11b1e8629",
   "metadata": {},
   "outputs": [
    {
     "name": "stdin",
     "output_type": "stream",
     "text": [
      "Enter the total purchase amount: $ 1000\n"
     ]
    },
    {
     "name": "stdout",
     "output_type": "stream",
     "text": [
      "You are eligible for a discount! The final price after a 10% discount is: $900.00\n"
     ]
    }
   ],
   "source": [
    "total_purchase = float(input(\"Enter the total purchase amount: $\"))\n",
    "if total_purchase > 100:\n",
    "    discount = total_purchase * 0.10\n",
    "    final_price = total_purchase - discount\n",
    "    print(f\"You are eligible for a discount! The final price after a 10% discount is: ${final_price:.2f}\")\n",
    "else:\n",
    "    print(f\"The total price is: ${total_purchase:.2f}\")"
   ]
  },
  {
   "cell_type": "markdown",
   "id": "f5001774-af60-4ad1-8731-b5600fc6d05f",
   "metadata": {},
   "source": [
    "# 2) Calculate Bulk Discount"
   ]
  },
  {
   "cell_type": "code",
   "execution_count": 2,
   "id": "3ed680c0-a463-4f4f-b8e7-254fc9145089",
   "metadata": {},
   "outputs": [
    {
     "name": "stdin",
     "output_type": "stream",
     "text": [
      "Enter the price per item: $ 10\n",
      "Enter the number of items purchased:  6\n"
     ]
    },
    {
     "name": "stdout",
     "output_type": "stream",
     "text": [
      "Discount applied: 15% off\n",
      "Total price: $51.00\n"
     ]
    }
   ],
   "source": [
    "def calculate_total_price(price_per_item, number_of_items):\n",
    "    total_price = price_per_item * number_of_items\n",
    "    \n",
    "    if number_of_items > 5:\n",
    "        discount = 0.15 * total_price\n",
    "        total_price -= discount\n",
    "        print(f\"Discount applied: 15% off\")\n",
    "    \n",
    "    print(f\"Total price: ${total_price:.2f}\")\n",
    "price_per_item = float(input(\"Enter the price per item: $\"))\n",
    "number_of_items = int(input(\"Enter the number of items purchased: \"))\n",
    "calculate_total_price(price_per_item, number_of_items)"
   ]
  },
  {
   "cell_type": "markdown",
   "id": "16c11352-de42-4cd5-bdf2-2e7a325e0d57",
   "metadata": {},
   "source": [
    "# 3) Membership Discount\n",
    "Check if the customer is a member (is_member = True). Members get a 20% discount; non-members get a 5% discount. Calculate and print the discounted price."
   ]
  },
  {
   "cell_type": "code",
   "execution_count": 5,
   "id": "4258b49f-035a-4ac6-b602-a55101e9e2ce",
   "metadata": {},
   "outputs": [
    {
     "name": "stdin",
     "output_type": "stream",
     "text": [
      "Enter the price per item: $ 20\n",
      "Enter the number of items purchased:  3\n",
      "Are you a member? (yes/no):  yes\n"
     ]
    },
    {
     "name": "stdout",
     "output_type": "stream",
     "text": [
      "Member discount applied: 20% off\n",
      "Discounted total price: $48.00\n"
     ]
    }
   ],
   "source": [
    "def calculate_discounted_price(price_per_item, number_of_items, is_member):\n",
    "    total_price = price_per_item * number_of_items\n",
    "    \n",
    "    if is_member:\n",
    "        discount = 0.20 * total_price  \n",
    "        total_price -= discount\n",
    "        print(f\"Member discount applied: 20% off\")\n",
    "    else:\n",
    "        discount = 0.05 * total_price  #\n",
    "        total_price -= discount\n",
    "        print(f\"Non-member discount applied: 5% off\")\n",
    "    \n",
    "    print(f\"Discounted total price: ${total_price:.2f}\")\n",
    "price_per_item = float(input(\"Enter the price per item: $\"))\n",
    "number_of_items = int(input(\"Enter the number of items purchased: \"))\n",
    "is_member_input = input(\"Are you a member? (yes/no): \").strip().lower()\n",
    "\n",
    "is_member = is_member_input == 'yes'\n",
    "\n",
    "calculate_discounted_price(price_per_item, number_of_items, is_member)"
   ]
  },
  {
   "cell_type": "markdown",
   "id": "d679bdd4-5faf-4009-b191-df197bb1c4cd",
   "metadata": {},
   "source": [
    "# 4) Seasonal Sale\n",
    "If today is a holiday (is_holiday = True), apply a 25% discount; otherwise, apply a 10% discount. Calculate the price after discount."
   ]
  },
  {
   "cell_type": "code",
   "execution_count": 8,
   "id": "1550f461-6aae-4aad-abbb-cf7dcc532d42",
   "metadata": {},
   "outputs": [
    {
     "name": "stdin",
     "output_type": "stream",
     "text": [
      "Enter the price per item: $ 50\n",
      "Enter the number of items purchased:  4\n",
      "Is today a holiday? (yes/no):  yes\n"
     ]
    },
    {
     "name": "stdout",
     "output_type": "stream",
     "text": [
      "Holiday discount applied: 25% off\n",
      "Price after discount: $150.00\n"
     ]
    }
   ],
   "source": [
    "def calculate_price_after_discount(price_per_item, number_of_items, is_holiday):\n",
    "    total_price = price_per_item * number_of_items\n",
    "    \n",
    "    if is_holiday:\n",
    "        discount = 0.25 * total_price  \n",
    "        total_price -= discount\n",
    "        print(f\"Holiday discount applied: 25% off\")\n",
    "    else:\n",
    "        discount = 0.10 * total_price \n",
    "        total_price -= discount\n",
    "        print(f\"Non-holiday discount applied: 10% off\")\n",
    "    \n",
    "    print(f\"Price after discount: ${total_price:.2f}\")\n",
    "\n",
    "price_per_item = float(input(\"Enter the price per item: $\"))\n",
    "number_of_items = int(input(\"Enter the number of items purchased: \"))\n",
    "is_holiday_input = input(\"Is today a holiday? (yes/no): \").strip().lower()\n",
    "is_holiday = is_holiday_input == 'yes'\n",
    "calculate_price_after_discount(price_per_item, number_of_items, is_holiday)"
   ]
  },
  {
   "cell_type": "markdown",
   "id": "2b8b4501-a40d-403f-8d57-4013a9932bb4",
   "metadata": {},
   "source": [
    "# 5) Buy one get one free\n",
    "If a customer buys an even number of items, they get half of them for free. Otherwise, they pay for all. Calculate the number of items the customer has to pay for."
   ]
  },
  {
   "cell_type": "code",
   "execution_count": 11,
   "id": "40663f23-217d-4d8a-871a-94820da2ad0d",
   "metadata": {},
   "outputs": [
    {
     "name": "stdin",
     "output_type": "stream",
     "text": [
      "Enter the number of items purchased:  6\n"
     ]
    },
    {
     "name": "stdout",
     "output_type": "stream",
     "text": [
      "You get half of the 6 items for free.\n",
      "Number of items to pay for: 3\n"
     ]
    }
   ],
   "source": [
    "def calculate_items_to_pay_for(number_of_items):\n",
    "    if number_of_items % 2 == 0:\n",
    "        items_to_pay_for = number_of_items // 2\n",
    "        print(f\"You get half of the {number_of_items} items for free.\")\n",
    "    else:\n",
    "        items_to_pay_for = number_of_items\n",
    "        print(f\"You have to pay for all {number_of_items} items.\")\n",
    "    \n",
    "    print(f\"Number of items to pay for: {items_to_pay_for}\")\n",
    "number_of_items = int(input(\"Enter the number of items purchased: \"))\n",
    "calculate_items_to_pay_for(number_of_items)"
   ]
  },
  {
   "cell_type": "markdown",
   "id": "c0e56320-44c3-4dc9-b6f9-ec7aa0b64462",
   "metadata": {},
   "source": [
    "# 6) Sales Tax\n",
    "If the price of an item is greater than $500, apply a luxury tax of 15%. Otherwise, apply a standard tax of 8%. Display the total price after tax."
   ]
  },
  {
   "cell_type": "code",
   "execution_count": 16,
   "id": "77999c32-90a6-403f-b12a-6922e9bbfe70",
   "metadata": {},
   "outputs": [
    {
     "name": "stdin",
     "output_type": "stream",
     "text": [
      "Enter the price of the item: $ 600\n"
     ]
    },
    {
     "name": "stdout",
     "output_type": "stream",
     "text": [
      "Luxury tax applied: 15%\n",
      "Total price after tax: $690.00\n"
     ]
    }
   ],
   "source": [
    "def calculate_total_price_after_tax(price):\n",
    "    if price > 500:\n",
    "        tax = 0.15 * price \n",
    "        print(f\"Luxury tax applied: 15%\")\n",
    "    else:\n",
    "        tax = 0.08 * price  \n",
    "        print(f\"Standard tax applied: 8%\")\n",
    "    total_price = price + tax\n",
    "    print(f\"Total price after tax: ${total_price:.2f}\")\n",
    "price = float(input(\"Enter the price of the item: $\"))\n",
    "calculate_total_price_after_tax(price)"
   ]
  },
  {
   "cell_type": "markdown",
   "id": "78f71b05-0491-41ee-b6a9-6a7ac91d057d",
   "metadata": {},
   "source": [
    "# 7) Income Tax"
   ]
  },
  {
   "cell_type": "code",
   "execution_count": 2,
   "id": "574478b1-ad03-43bf-8c10-2838175965f4",
   "metadata": {},
   "outputs": [
    {
     "name": "stdin",
     "output_type": "stream",
     "text": [
      "Enter the annual income: $ 50000\n"
     ]
    },
    {
     "name": "stdout",
     "output_type": "stream",
     "text": [
      "The tax amount to be paid is: $5000.00\n"
     ]
    }
   ],
   "source": [
    "income = float(input(\"Enter the annual income: $\"))\n",
    "if income > 50000:\n",
    "    tax = income * 0.20  \n",
    "else:\n",
    "    tax = income * 0.10  \n",
    "print(f\"The tax amount to be paid is: ${tax:.2f}\")"
   ]
  },
  {
   "cell_type": "markdown",
   "id": "2136a586-7e4d-4b01-96e5-023146ab28c0",
   "metadata": {},
   "source": [
    "# 8) Tax Bracket"
   ]
  },
  {
   "cell_type": "code",
   "execution_count": 5,
   "id": "72a99a06-22a1-422f-9829-91b7f490699b",
   "metadata": {},
   "outputs": [
    {
     "name": "stdin",
     "output_type": "stream",
     "text": [
      "Enter the annual income: $ 100000\n"
     ]
    },
    {
     "name": "stdout",
     "output_type": "stream",
     "text": [
      "The tax bracket for an income of $100000.0 is: High Tax\n"
     ]
    }
   ],
   "source": [
    "income = float(input(\"Enter the annual income: $\"))\n",
    "if income < 30000:\n",
    "    tax_bracket = \"Low Tax\"\n",
    "elif 30000 <= income < 100000:\n",
    "    tax_bracket = \"Medium Tax\"\n",
    "else:\n",
    "    tax_bracket = \"High Tax\"\n",
    "print(f\"The tax bracket for an income of ${income} is: {tax_bracket}\")"
   ]
  },
  {
   "cell_type": "markdown",
   "id": "438dee05-20d5-4f43-83cf-cf717c6dc90a",
   "metadata": {},
   "source": [
    "# 9) VAT Calculation"
   ]
  },
  {
   "cell_type": "code",
   "execution_count": 9,
   "id": "5181c41f-86ff-456f-a66f-c2e50edf74bd",
   "metadata": {},
   "outputs": [
    {
     "name": "stdin",
     "output_type": "stream",
     "text": [
      "Enter the item's original price: $ 105\n",
      "Is the item essential (True/False)?  true\n"
     ]
    },
    {
     "name": "stdout",
     "output_type": "stream",
     "text": [
      "The final price after VAT is: $110.25\n"
     ]
    }
   ],
   "source": [
    "price = float(input(\"Enter the item's original price: $\"))\n",
    "is_essential = input(\"Is the item essential (True/False)? \").strip().lower() == 'true'\n",
    "if is_essential:\n",
    "    vat_rate = 0.05 \n",
    "else:\n",
    "    vat_rate = 0.12  \n",
    "vat_amount = price * vat_rate\n",
    "final_price = price + vat_amount\n",
    "\n",
    "print(f\"The final price after VAT is: ${final_price:.2f}\")"
   ]
  },
  {
   "cell_type": "markdown",
   "id": "6708077d-d77a-45bf-8385-d8db99408d29",
   "metadata": {},
   "source": [
    "# 10) Tax-Free Day"
   ]
  },
  {
   "cell_type": "code",
   "execution_count": 12,
   "id": "4b8015c0-e189-4de1-8806-05b2b55b6cd1",
   "metadata": {},
   "outputs": [
    {
     "name": "stdin",
     "output_type": "stream",
     "text": [
      "Enter the item's original price: $ 100\n",
      "Is today a tax-free day (True/False)?  true\n"
     ]
    },
    {
     "name": "stdout",
     "output_type": "stream",
     "text": [
      "The final price is: $100.00\n"
     ]
    }
   ],
   "source": [
    "price = float(input(\"Enter the item's original price: $\"))\n",
    "tax_free = input(\"Is today a tax-free day (True/False)? \").strip().lower() == 'true'\n",
    "if tax_free:\n",
    "    final_price = price \n",
    "else:\n",
    "    final_price = price * 1.07 \n",
    "\n",
    "print(f\"The final price is: ${final_price:.2f}\")"
   ]
  },
  {
   "cell_type": "markdown",
   "id": "dc1e6632-b89a-441f-810b-c0dce6b03026",
   "metadata": {},
   "source": [
    "# 11) Free Shipping"
   ]
  },
  {
   "cell_type": "code",
   "execution_count": 15,
   "id": "51055d2a-d4b8-44b1-b0f2-e1533ac2a086",
   "metadata": {},
   "outputs": [
    {
     "name": "stdin",
     "output_type": "stream",
     "text": [
      "Enter the total purchase amount: $ 50\n"
     ]
    },
    {
     "name": "stdout",
     "output_type": "stream",
     "text": [
      "The total amount including shipping is: $55.00\n"
     ]
    }
   ],
   "source": [
    "purchase_amount = float(input(\"Enter the total purchase amount: $\"))\n",
    "if purchase_amount > 50:\n",
    "    shipping_cost = 0  \n",
    "else:\n",
    "    shipping_cost = 5  \n",
    "total_amount = purchase_amount + shipping_cost\n",
    "\n",
    "print(f\"The total amount including shipping is: ${total_amount:.2f}\")"
   ]
  },
  {
   "cell_type": "markdown",
   "id": "107b3393-0929-4346-a75f-e791ceda8c2f",
   "metadata": {},
   "source": [
    "# 12) Discount Code"
   ]
  },
  {
   "cell_type": "code",
   "execution_count": 18,
   "id": "de187809-ace8-4c9b-acec-f602065dd04f",
   "metadata": {},
   "outputs": [
    {
     "name": "stdin",
     "output_type": "stream",
     "text": [
      "Enter the total purchase amount: $ 100\n",
      "Enter the discount code:  10\n"
     ]
    },
    {
     "name": "stdout",
     "output_type": "stream",
     "text": [
      "The final amount to pay is: $100.00\n"
     ]
    }
   ],
   "source": [
    "purchase_amount = float(input(\"Enter the total purchase amount: $\"))\n",
    "discount_code = input(\"Enter the discount code: \").strip()\n",
    "if discount_code == \"DISCOUNT10\":\n",
    "    discount = 0.10 \n",
    "else:\n",
    "    discount = 0  \n",
    "final_amount = purchase_amount * (1 - discount)\n",
    "\n",
    "print(f\"The final amount to pay is: ${final_amount:.2f}\")"
   ]
  },
  {
   "cell_type": "markdown",
   "id": "817c180b-8459-4106-9b12-254a87ee32a6",
   "metadata": {},
   "source": [
    "# 13) Tiered Discounts"
   ]
  },
  {
   "cell_type": "code",
   "execution_count": 21,
   "id": "6ffd1d5d-443e-43cb-81c0-b2382f8b1c51",
   "metadata": {},
   "outputs": [
    {
     "name": "stdin",
     "output_type": "stream",
     "text": [
      "Enter the total purchase amount: $ 100\n"
     ]
    },
    {
     "name": "stdout",
     "output_type": "stream",
     "text": [
      "Discount applied: $10.00\n",
      "The final amount to pay is: $90.00\n"
     ]
    }
   ],
   "source": [
    "purchase_amount = float(input(\"Enter the total purchase amount: $\"))\n",
    "if purchase_amount <= 50:\n",
    "    discount = 0  \n",
    "elif 50 < purchase_amount <= 100:\n",
    "    discount = 0.10 \n",
    "else:\n",
    "    discount = 0.20 \n",
    "discount_amount = purchase_amount * discount\n",
    "final_amount = purchase_amount - discount_amount\n",
    "\n",
    "print(f\"Discount applied: ${discount_amount:.2f}\")\n",
    "print(f\"The final amount to pay is: ${final_amount:.2f}\")"
   ]
  },
  {
   "cell_type": "markdown",
   "id": "ba055786-3662-436e-a898-7cf2e3aa34ad",
   "metadata": {},
   "source": [
    "# 14) Minimum Purchase Requirement"
   ]
  },
  {
   "cell_type": "code",
   "execution_count": 24,
   "id": "47d0f819-9554-44a8-80fb-510c91078a85",
   "metadata": {},
   "outputs": [
    {
     "name": "stdin",
     "output_type": "stream",
     "text": [
      "Enter the total purchase amount: $ 15\n"
     ]
    },
    {
     "name": "stdout",
     "output_type": "stream",
     "text": [
      "Minimum purchase of $20 is required.\n"
     ]
    }
   ],
   "source": [
    "total_amount = float(input(\"Enter the total purchase amount: $\"))\n",
    "if total_amount < 20:\n",
    "    print(\"Minimum purchase of $20 is required.\")\n",
    "else:\n",
    "    print(f\"The total amount is: ${total_amount:.2f}\")"
   ]
  },
  {
   "cell_type": "markdown",
   "id": "60b73be8-b797-4ce4-ba8e-73b5561fc83e",
   "metadata": {},
   "source": [
    "# 15) Loyalty Points"
   ]
  },
  {
   "cell_type": "code",
   "execution_count": 29,
   "id": "ed84864b-b985-4395-9ac2-8173c9d361fb",
   "metadata": {},
   "outputs": [
    {
     "name": "stdin",
     "output_type": "stream",
     "text": [
      "Enter the total purchase amount: $ 100\n",
      "Is the customer a loyal member (True/False)?  true\n"
     ]
    },
    {
     "name": "stdout",
     "output_type": "stream",
     "text": [
      "The customer earned 20.00 loyalty points.\n"
     ]
    }
   ],
   "source": [
    "purchase_amount = float(input(\"Enter the total purchase amount: $\"))\n",
    "is_loyal = input(\"Is the customer a loyal member (True/False)? \").strip().lower() == 'true'\n",
    "standard_points_rate = 10\n",
    "if is_loyal:\n",
    "    loyalty_points = (purchase_amount / 10) * 2 \n",
    "else:\n",
    "    loyalty_points = purchase_amount / 10 \n",
    "print(f\"The customer earned {loyalty_points:.2f} loyalty points.\")"
   ]
  },
  {
   "cell_type": "markdown",
   "id": "5cb66040-dcf5-4362-869f-b8f81b07d9e4",
   "metadata": {},
   "source": [
    "# 16) Travel Discount"
   ]
  },
  {
   "cell_type": "code",
   "execution_count": 32,
   "id": "a6b87858-d28d-4fd0-a63f-0b4e57666005",
   "metadata": {},
   "outputs": [
    {
     "name": "stdin",
     "output_type": "stream",
     "text": [
      "Enter the ticket price: $ 300\n",
      "Enter the number of miles you are traveling:  600\n"
     ]
    },
    {
     "name": "stdout",
     "output_type": "stream",
     "text": [
      "The final ticket price is: $240.00\n"
     ]
    }
   ],
   "source": [
    "ticket_price = float(input(\"Enter the ticket price: $\"))\n",
    "miles_traveling = float(input(\"Enter the number of miles you are traveling: \"))\n",
    "if miles_traveling > 500:\n",
    "    discount = 0.20 \n",
    "else:\n",
    "    discount = 0 \n",
    "final_price = ticket_price * (1 - discount)\n",
    "\n",
    "print(f\"The final ticket price is: ${final_price:.2f}\")"
   ]
  },
  {
   "cell_type": "markdown",
   "id": "fb78ee1e-cb00-47b0-91e8-443cdc137d48",
   "metadata": {},
   "source": [
    "# 17) Child or Senior Discount"
   ]
  },
  {
   "cell_type": "code",
   "execution_count": 35,
   "id": "9497bc06-a292-4fcc-a131-1a339970c407",
   "metadata": {},
   "outputs": [
    {
     "name": "stdin",
     "output_type": "stream",
     "text": [
      "Enter the ticket price: $ 50\n",
      "Enter the passenger's age:  11\n"
     ]
    },
    {
     "name": "stdout",
     "output_type": "stream",
     "text": [
      "The final ticket price is: $42.50\n"
     ]
    }
   ],
   "source": [
    "ticket_price = float(input(\"Enter the ticket price: $\"))\n",
    "age = int(input(\"Enter the passenger's age: \"))\n",
    "if age < 12 or age > 60:\n",
    "    discount = 0.15\n",
    "else:\n",
    "    discount = 0  \n",
    "final_price = ticket_price * (1 - discount)\n",
    "\n",
    "print(f\"The final ticket price is: ${final_price:.2f}\")"
   ]
  },
  {
   "cell_type": "markdown",
   "id": "49435e9f-26ab-4a85-924c-2d7621dbfb90",
   "metadata": {},
   "source": [
    "# 18) Ticket Type Pricing"
   ]
  },
  {
   "cell_type": "code",
   "execution_count": 38,
   "id": "32432462-20ff-403e-afe6-64ba4910d66f",
   "metadata": {},
   "outputs": [
    {
     "name": "stdin",
     "output_type": "stream",
     "text": [
      "Enter the ticket price: $ 100\n",
      "Is the ticket for a weekend (True/False)?  true\n"
     ]
    },
    {
     "name": "stdout",
     "output_type": "stream",
     "text": [
      "The final ticket price is: $110.00\n"
     ]
    }
   ],
   "source": [
    "ticket_price = float(input(\"Enter the ticket price: $\"))\n",
    "is_weekend = input(\"Is the ticket for a weekend (True/False)? \").strip().lower() == 'true'\n",
    "if is_weekend:\n",
    "    surcharge = 0.10 \n",
    "else:\n",
    "    surcharge = 0  \n",
    "final_price = ticket_price * (1 + surcharge)\n",
    "\n",
    "print(f\"The final ticket price is: ${final_price:.2f}\")"
   ]
  },
  {
   "cell_type": "markdown",
   "id": "e53ef4ac-baaf-417b-b9f0-6d2749269603",
   "metadata": {},
   "source": [
    "# 19) Baggage Fee"
   ]
  },
  {
   "cell_type": "code",
   "execution_count": 41,
   "id": "bc5480f0-59e8-439c-921a-35104ee83c9d",
   "metadata": {},
   "outputs": [
    {
     "name": "stdin",
     "output_type": "stream",
     "text": [
      "Enter the total baggage weight (in kg):  15\n"
     ]
    },
    {
     "name": "stdout",
     "output_type": "stream",
     "text": [
      "No extra fee. Your baggage weight is within the limit.\n"
     ]
    }
   ],
   "source": [
    "baggage_weight = float(input(\"Enter the total baggage weight (in kg): \"))\n",
    "if baggage_weight > 20:\n",
    "    extra_weight = baggage_weight - 20\n",
    "    extra_fee = extra_weight * 10  \n",
    "else:\n",
    "    extra_fee = 0  \n",
    "if extra_fee > 0:\n",
    "    print(f\"Your baggage exceeds 20kg by {extra_weight:.2f}kg. The extra fee is: ${extra_fee:.2f}\")\n",
    "else:\n",
    "    print(\"No extra fee. Your baggage weight is within the limit.\")"
   ]
  },
  {
   "cell_type": "markdown",
   "id": "7054e0be-e019-4e47-bcc9-58a5a1ec4024",
   "metadata": {},
   "source": [
    "# 20) Early Bird Discount"
   ]
  },
  {
   "cell_type": "code",
   "execution_count": 44,
   "id": "d968ebbd-d1d1-4740-95e9-eead46b3b3a1",
   "metadata": {},
   "outputs": [
    {
     "name": "stdin",
     "output_type": "stream",
     "text": [
      "Enter the ticket price: $ 55\n",
      "Enter the number of days in advance the ticket is booked:  33\n"
     ]
    },
    {
     "name": "stdout",
     "output_type": "stream",
     "text": [
      "The final ticket price is: $49.50\n"
     ]
    }
   ],
   "source": [
    "ticket_price = float(input(\"Enter the ticket price: $\"))\n",
    "days_in_advance = int(input(\"Enter the number of days in advance the ticket is booked: \"))\n",
    "if days_in_advance > 30:\n",
    "    discount = 0.10  \n",
    "else:\n",
    "    discount = 0 \n",
    "final_price = ticket_price * (1 - discount)\n",
    "\n",
    "print(f\"The final ticket price is: ${final_price:.2f}\")"
   ]
  },
  {
   "cell_type": "markdown",
   "id": "003d81c1-804a-406d-bb88-55c67bc057ea",
   "metadata": {},
   "source": [
    "# 21) Pass or Fail"
   ]
  },
  {
   "cell_type": "code",
   "execution_count": 47,
   "id": "269794f4-496b-4a97-af6c-e13c1198ed60",
   "metadata": {},
   "outputs": [
    {
     "name": "stdin",
     "output_type": "stream",
     "text": [
      "Enter the student's score:  44\n"
     ]
    },
    {
     "name": "stdout",
     "output_type": "stream",
     "text": [
      "Pass\n"
     ]
    }
   ],
   "source": [
    "score = float(input(\"Enter the student's score: \"))\n",
    "if score >= 40:\n",
    "    print(\"Pass\")\n",
    "else:\n",
    "    print(\"Fail\")"
   ]
  },
  {
   "cell_type": "markdown",
   "id": "1bbb6058-8149-4ae5-9490-d5c782542c15",
   "metadata": {},
   "source": [
    "# 22) Grade Assignment"
   ]
  },
  {
   "cell_type": "code",
   "execution_count": 50,
   "id": "731809bb-e827-4533-aa72-1944ee6c29ce",
   "metadata": {},
   "outputs": [
    {
     "name": "stdin",
     "output_type": "stream",
     "text": [
      "Enter the student's score:  95\n"
     ]
    },
    {
     "name": "stdout",
     "output_type": "stream",
     "text": [
      "The student's grade is: A\n"
     ]
    }
   ],
   "source": [
    "score = float(input(\"Enter the student's score: \"))\n",
    "if score >= 90:\n",
    "    grade = \"A\"\n",
    "elif 75 <= score < 90:\n",
    "    grade = \"B\"\n",
    "elif 50 <= score < 75:\n",
    "    grade = \"C\"\n",
    "else:\n",
    "    grade = \"F\"\n",
    "\n",
    "print(f\"The student's grade is: {grade}\")"
   ]
  },
  {
   "cell_type": "markdown",
   "id": "d1b696be-34f8-4ddd-9c66-4d8f88236075",
   "metadata": {},
   "source": [
    "# 23) Bonus Marks"
   ]
  },
  {
   "cell_type": "code",
   "execution_count": 53,
   "id": "c59bf80d-d260-4e81-a325-b062d0b69a1d",
   "metadata": {},
   "outputs": [
    {
     "name": "stdin",
     "output_type": "stream",
     "text": [
      "Enter the student's score:  4\n",
      "Did the student complete all assignments? (True/False):  true\n"
     ]
    },
    {
     "name": "stdout",
     "output_type": "stream",
     "text": [
      "The student's final score is: 9.00\n"
     ]
    }
   ],
   "source": [
    "score = float(input(\"Enter the student's score: \"))\n",
    "completed_all_assignments = input(\"Did the student complete all assignments? (True/False): \").strip().lower() == 'true'\n",
    "if completed_all_assignments:\n",
    "    score += 5 \n",
    "print(f\"The student's final score is: {score:.2f}\")"
   ]
  },
  {
   "cell_type": "markdown",
   "id": "4f9403e2-eea8-4343-b811-13218c8b3110",
   "metadata": {},
   "source": [
    "# 24) Attendence Eligibility"
   ]
  },
  {
   "cell_type": "code",
   "execution_count": 58,
   "id": "312a27dd-31f1-4382-bac2-1c7b24d9964c",
   "metadata": {},
   "outputs": [
    {
     "name": "stdin",
     "output_type": "stream",
     "text": [
      "Enter the student's attendance percentage:  77\n"
     ]
    },
    {
     "name": "stdout",
     "output_type": "stream",
     "text": [
      "You are Allow for this exams.\n"
     ]
    }
   ],
   "source": [
    "attendance_percentage = float(input(\"Enter the student's attendance percentage: \"))\n",
    "if attendance_percentage >= 75:\n",
    "    print(\"You are Allow for this exams.\")\n",
    "else:\n",
    "    print(\"You are not allowed for this exams.\")"
   ]
  },
  {
   "cell_type": "markdown",
   "id": "21e31042-acc8-49f5-a1a9-381d096070d6",
   "metadata": {},
   "source": [
    "# 25) Scholarship Eligibility"
   ]
  },
  {
   "cell_type": "code",
   "execution_count": 61,
   "id": "8473558e-a2ac-4b22-ac68-408714cbf26f",
   "metadata": {},
   "outputs": [
    {
     "name": "stdin",
     "output_type": "stream",
     "text": [
      "Enter the student's grade:  81\n",
      "Enter the student's annual family income (in $):  29999\n"
     ]
    },
    {
     "name": "stdout",
     "output_type": "stream",
     "text": [
      "The student is eligible for a scholarship.\n"
     ]
    }
   ],
   "source": [
    "grade = float(input(\"Enter the student's grade: \"))\n",
    "family_income = float(input(\"Enter the student's annual family income (in $): \"))\n",
    "if grade >= 80 and family_income < 30000:\n",
    "    print(\"The student is eligible for a scholarship.\")\n",
    "else:\n",
    "    print(\"The student is not eligible for a scholarship.\")"
   ]
  },
  {
   "cell_type": "code",
   "execution_count": null,
   "id": "63dc4f33-7a27-4488-80cd-c1db74ee9ac8",
   "metadata": {},
   "outputs": [],
   "source": []
  }
 ],
 "metadata": {
  "kernelspec": {
   "display_name": "Python 3 (ipykernel)",
   "language": "python",
   "name": "python3"
  },
  "language_info": {
   "codemirror_mode": {
    "name": "ipython",
    "version": 3
   },
   "file_extension": ".py",
   "mimetype": "text/x-python",
   "name": "python",
   "nbconvert_exporter": "python",
   "pygments_lexer": "ipython3",
   "version": "3.12.7"
  }
 },
 "nbformat": 4,
 "nbformat_minor": 5
}
