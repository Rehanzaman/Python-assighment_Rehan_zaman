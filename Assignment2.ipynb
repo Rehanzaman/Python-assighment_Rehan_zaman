{
 "cells": [
  {
   "cell_type": "markdown",
   "id": "58fe6715-ac05-45df-9995-2ddf5981c1ae",
   "metadata": {},
   "source": [
    "# 1) Area of rectangle"
   ]
  },
  {
   "cell_type": "code",
   "execution_count": 2,
   "id": "27930dad-0910-4ec6-9f3f-33372915e9a5",
   "metadata": {},
   "outputs": [
    {
     "name": "stdin",
     "output_type": "stream",
     "text": [
      "Enter length of rectangle: 2\n",
      "Enter width of rectangle: 4\n"
     ]
    },
    {
     "name": "stdout",
     "output_type": "stream",
     "text": [
      "Area of rectanglr: 8\n"
     ]
    }
   ],
   "source": [
    "len = int(input(\"Enter length of rectangle:\"))\n",
    "wid = int(input(\"Enter width of rectangle:\"))\n",
    "Area=len*wid\n",
    "print(\"Area of rectanglr:\",Area)"
   ]
  },
  {
   "cell_type": "markdown",
   "id": "656c317e-038c-4f29-90cb-bd6b4646b048",
   "metadata": {},
   "source": [
    "# 2) Circumference of a circle"
   ]
  },
  {
   "cell_type": "code",
   "execution_count": 7,
   "id": "987b4832-97d6-4a98-9f2f-3311ba85588d",
   "metadata": {},
   "outputs": [
    {
     "name": "stdin",
     "output_type": "stream",
     "text": [
      "Enter the radius of the circle: 2\n"
     ]
    },
    {
     "name": "stdout",
     "output_type": "stream",
     "text": [
      "Circumference= 12.566370614359172\n"
     ]
    }
   ],
   "source": [
    "import math\n",
    "radius = float(input(\"Enter the radius of the circle:\"))\n",
    "C = 2*math.pi*radius\n",
    "print(\"Circumference=\",C)"
   ]
  },
  {
   "cell_type": "markdown",
   "id": "c0d727d8-0a1f-48f9-9ea6-809ce0afe687",
   "metadata": {},
   "source": [
    "# 3) speed of an object"
   ]
  },
  {
   "cell_type": "code",
   "execution_count": 10,
   "id": "a505a2bc-2602-425a-ab18-a583485c24f9",
   "metadata": {},
   "outputs": [
    {
     "name": "stdin",
     "output_type": "stream",
     "text": [
      "Enter value of distance: 20\n",
      "Enter value of time: 5\n"
     ]
    },
    {
     "name": "stdout",
     "output_type": "stream",
     "text": [
      "speed of an object: 4.0\n"
     ]
    }
   ],
   "source": [
    "s = int(input(\"Enter value of distance:\"))\n",
    "t = int(input(\"Enter value of time:\"))\n",
    "speed = s/t\n",
    "print(\"speed of an object:\",speed)"
   ]
  },
  {
   "cell_type": "markdown",
   "id": "df2c26b0-9303-4c5e-a982-42c33d6fe9b0",
   "metadata": {},
   "source": [
    "# 4) Force using newton secend law"
   ]
  },
  {
   "cell_type": "code",
   "execution_count": 13,
   "id": "fb1cce72-a5a4-444a-913c-8f1be67f1386",
   "metadata": {},
   "outputs": [
    {
     "name": "stdin",
     "output_type": "stream",
     "text": [
      "Enter value of mass: 60\n",
      "Enter value of acceleration: 50\n"
     ]
    },
    {
     "name": "stdout",
     "output_type": "stream",
     "text": [
      "value of Force: 3000\n"
     ]
    }
   ],
   "source": [
    "mass = int(input(\"Enter value of mass:\"))\n",
    "ac = int(input(\"Enter value of acceleration:\"))\n",
    "Force = mass*ac\n",
    "print(\"value of Force:\",Force)"
   ]
  },
  {
   "cell_type": "markdown",
   "id": "89b8fc3c-4251-4df0-9be1-c2e005fd01c8",
   "metadata": {},
   "source": [
    "# 5) Perimeter of a triangle"
   ]
  },
  {
   "cell_type": "code",
   "execution_count": 17,
   "id": "12b5beff-4412-498d-8825-30e5ff324cfc",
   "metadata": {},
   "outputs": [
    {
     "name": "stdin",
     "output_type": "stream",
     "text": [
      "Enter value of a: 2\n",
      "Enter value of b: 4\n",
      "Enter value of c: 6\n"
     ]
    },
    {
     "name": "stdout",
     "output_type": "stream",
     "text": [
      "Perimeter of a triangle: 12\n"
     ]
    }
   ],
   "source": [
    "a = int(input(\"Enter value of a:\"))\n",
    "b = int(input(\"Enter value of b:\"))\n",
    "c = int(input(\"Enter value of c:\"))\n",
    "Perimeter = a+b+c\n",
    "print(\"Perimeter of a triangle:\",Perimeter)"
   ]
  },
  {
   "cell_type": "markdown",
   "id": "a546e84d-e427-4e3e-a024-09372f020ead",
   "metadata": {},
   "source": [
    "# 6) pressure"
   ]
  },
  {
   "cell_type": "code",
   "execution_count": 1,
   "id": "071cc942-f0b6-4f91-9cf7-1540b4323dc6",
   "metadata": {},
   "outputs": [
    {
     "name": "stdin",
     "output_type": "stream",
     "text": [
      "Enter value of force: 100\n",
      "Enter value of area: 65\n"
     ]
    },
    {
     "name": "stdout",
     "output_type": "stream",
     "text": [
      "Enter value of pressure: 1.5384615384615385\n"
     ]
    }
   ],
   "source": [
    "f = int(input(\"Enter value of force:\"))\n",
    "a = int(input(\"Enter value of area:\"))\n",
    "pressure = f/a\n",
    "print(\"Enter value of pressure:\",pressure)"
   ]
  },
  {
   "cell_type": "markdown",
   "id": "dd6921a4-fd25-4c6b-8ebf-d4726eb24e03",
   "metadata": {},
   "source": [
    "# 7) Electric power"
   ]
  },
  {
   "cell_type": "code",
   "execution_count": 3,
   "id": "dd77ae6a-b061-4ca8-b848-efbb6e8da882",
   "metadata": {},
   "outputs": [
    {
     "name": "stdin",
     "output_type": "stream",
     "text": [
      "Enter value of voltage: 220\n",
      "Enter value of current: 60\n"
     ]
    },
    {
     "name": "stdout",
     "output_type": "stream",
     "text": [
      "Enter value of power: 3.6666666666666665\n"
     ]
    }
   ],
   "source": [
    "v = int(input(\"Enter value of voltage:\"))\n",
    "i = int(input(\"Enter value of current:\"))\n",
    "power=v/i\n",
    "print(\"Enter value of power:\" ,power)"
   ]
  },
  {
   "cell_type": "markdown",
   "id": "7fa6ed00-ae4d-4efa-b552-e7c5c3788784",
   "metadata": {},
   "source": [
    "# 8) Simple interest"
   ]
  },
  {
   "cell_type": "code",
   "execution_count": 3,
   "id": "ca457174-bc63-4043-80cf-46aafe6d81c6",
   "metadata": {},
   "outputs": [
    {
     "name": "stdin",
     "output_type": "stream",
     "text": [
      "Enter value of principle: 65\n",
      "Enter value of rate: 65\n",
      "Enter value of time: 10\n"
     ]
    },
    {
     "name": "stdout",
     "output_type": "stream",
     "text": [
      "Enter value of Simple interest: 42250\n"
     ]
    }
   ],
   "source": [
    "pri = int(input(\"Enter value of principle:\"))\n",
    "rate = int(input(\"Enter value of rate:\"))\n",
    "time = int(input(\"Enter value of time:\"))\n",
    "Simple_interest = pri*rate*time\n",
    "print(\"Enter value of Simple interest:\",Simple_interest)"
   ]
  },
  {
   "cell_type": "markdown",
   "id": "a3ce33b1-8c2d-4276-bbfe-3443fbe1da9f",
   "metadata": {},
   "source": [
    "# 9) Work done by force"
   ]
  },
  {
   "cell_type": "code",
   "execution_count": 11,
   "id": "e86b3f1d-abf8-4424-a507-81f77b41d2fd",
   "metadata": {},
   "outputs": [
    {
     "name": "stdin",
     "output_type": "stream",
     "text": [
      "enter the f 44.8\n",
      "enter the d 87.9\n",
      "enter the angle 54.9\n"
     ]
    },
    {
     "name": "stdout",
     "output_type": "stream",
     "text": [
      "work done is -306.34166593961373\n"
     ]
    }
   ],
   "source": [
    "import math\n",
    "angle_in_radians=math.radians\n",
    "f = float(input(\"enter the f\"))\n",
    "d = float(input(\"enter the d\"))\n",
    "angle = float(input(\"enter the angle\"))\n",
    "w = f*d*math.cos(angle)\n",
    "print(f'work done is {w}')"
   ]
  },
  {
   "cell_type": "markdown",
   "id": "b8919e92-8336-40ee-89ce-3c1734592b7b",
   "metadata": {},
   "source": [
    "# 10) Quadratic equation"
   ]
  },
  {
   "cell_type": "code",
   "execution_count": 22,
   "id": "4984a7c9-f2a5-443a-8d8b-7e04ca9996b1",
   "metadata": {},
   "outputs": [],
   "source": [
    "a=2\n",
    "b=3 \n",
    "c=4"
   ]
  },
  {
   "cell_type": "code",
   "execution_count": 26,
   "id": "1fdc47c2-b8e3-40f6-896c-8fc3e35abf97",
   "metadata": {},
   "outputs": [],
   "source": [
    "x1,x2 =  (-b+(b**2-4*a*c)**(0.5) )/2*a   , (-b-(b**2-4*a*c)**(0.5) )/2*a"
   ]
  },
  {
   "cell_type": "code",
   "execution_count": 28,
   "id": "c3728a23-915a-4cfb-a275-77b5741ff822",
   "metadata": {},
   "outputs": [
    {
     "data": {
      "text/plain": [
       "(-2.9999999999999996+4.795831523312719j)"
      ]
     },
     "execution_count": 28,
     "metadata": {},
     "output_type": "execute_result"
    }
   ],
   "source": [
    "x1"
   ]
  },
  {
   "cell_type": "code",
   "execution_count": 30,
   "id": "064a8e9e-3b7f-4317-ab80-163709ceaa17",
   "metadata": {},
   "outputs": [
    {
     "data": {
      "text/plain": [
       "(-3.0000000000000004-4.795831523312719j)"
      ]
     },
     "execution_count": 30,
     "metadata": {},
     "output_type": "execute_result"
    }
   ],
   "source": [
    "x2"
   ]
  },
  {
   "cell_type": "markdown",
   "id": "5bf59d87-1d82-42dc-8a1e-cbde844be603",
   "metadata": {},
   "source": [
    "# 11) Kinetic energy"
   ]
  },
  {
   "cell_type": "code",
   "execution_count": 9,
   "id": "698617fb-d112-4c0b-8fb2-314eb5a86f1a",
   "metadata": {},
   "outputs": [
    {
     "name": "stdin",
     "output_type": "stream",
     "text": [
      "enter the mass of the object(in kilograms): 23.4\n",
      "enter the velocity of object(in meters/secondassa): 50\n"
     ]
    },
    {
     "name": "stdout",
     "output_type": "stream",
     "text": [
      "The kinetic enegy of the object is:29250.00Joules\n"
     ]
    }
   ],
   "source": [
    "# taking input from the user\n",
    "mass = float(input(\"enter the mass of the object(in kilograms):\"))\n",
    "velocity = float(input(\"enter the velocity of object(in meters/secondassa):\"))\n",
    "kinetic_energy = 0.5*mass*(velocity**2)\n",
    "print(f\"The kinetic enegy of the object is:{kinetic_energy:.2f}Joules\")"
   ]
  },
  {
   "cell_type": "markdown",
   "id": "7faaedd1-3865-4600-81a9-79f6f8db7cd6",
   "metadata": {},
   "source": [
    "# 12) BMI calculator"
   ]
  },
  {
   "cell_type": "code",
   "execution_count": 81,
   "id": "5f98f3b4-fb54-4603-a4c1-d367bc80a610",
   "metadata": {},
   "outputs": [
    {
     "name": "stdin",
     "output_type": "stream",
     "text": [
      "Enter your weight in kilograms:  60\n",
      "Enter your height in meters:  54\n"
     ]
    },
    {
     "name": "stdout",
     "output_type": "stream",
     "text": [
      "Your Body Mass Index (BMI) is: 0.02\n",
      "You are underweight.\n"
     ]
    }
   ],
   "source": [
    "weight = float(input(\"Enter your weight in kilograms: \"))\n",
    "height = float(input(\"Enter your height in meters: \"))\n",
    "bmi = weight / height**2\n",
    "print(f\"Your Body Mass Index (BMI) is: {bmi:.2f}\")\n",
    "if bmi < 18.5:\n",
    "    print(\"You are underweight.\")\n",
    "elif 18.5 <= bmi < 24.9:\n",
    "    print(\"You have a normal weight.\")\n",
    "elif 25 <= bmi < 29.9:\n",
    "    print(\"You are overweight.\")\n",
    "else:\n",
    "    print(\"You are obese.\")"
   ]
  },
  {
   "cell_type": "markdown",
   "id": "eb2ebb72-7d98-453e-97e0-bcb7aa6c7617",
   "metadata": {},
   "source": [
    "# 13) Volume of a sphere"
   ]
  },
  {
   "cell_type": "code",
   "execution_count": 79,
   "id": "b587f9c6-5a00-4522-a867-ccc78d35fb76",
   "metadata": {},
   "outputs": [
    {
     "name": "stdin",
     "output_type": "stream",
     "text": [
      "Enter the radius of the sphere:  6\n"
     ]
    },
    {
     "name": "stdout",
     "output_type": "stream",
     "text": [
      "The volume of the sphere is: 904.78\n"
     ]
    }
   ],
   "source": [
    "import math\n",
    "r = float(input(\"Enter the radius of the sphere: \"))\n",
    "volume = (4/3) * math.pi * r**3\n",
    "print(f\"The volume of the sphere with radius {r} is: {volume}\")"
   ]
  },
  {
   "cell_type": "markdown",
   "id": "655e70a0-f98f-4bf4-b54a-a05966e873d2",
   "metadata": {},
   "source": [
    "# 14) Temprature conversion"
   ]
  },
  {
   "cell_type": "code",
   "execution_count": 84,
   "id": "1e679be4-ebda-4747-ad92-46ecb1618aeb",
   "metadata": {},
   "outputs": [
    {
     "name": "stdin",
     "output_type": "stream",
     "text": [
      "Enter temperature in Celsius:  250\n"
     ]
    },
    {
     "name": "stdout",
     "output_type": "stream",
     "text": [
      "The temperature in Fahrenheit is: 482.00\n"
     ]
    }
   ],
   "source": [
    "C = float(input(\"Enter the temperature in Celsius: \"))\n",
    "F = (9/5) * C + 32\n",
    "print(f\"{C}°C is equal to {F}°F\")"
   ]
  },
  {
   "cell_type": "markdown",
   "id": "38439747-6508-441d-b8b8-43295a332252",
   "metadata": {},
   "source": [
    "# 15) Gravitational force"
   ]
  },
  {
   "cell_type": "code",
   "execution_count": 89,
   "id": "7204bfee-a230-468c-9804-9f373b6ba946",
   "metadata": {},
   "outputs": [
    {
     "name": "stdin",
     "output_type": "stream",
     "text": [
      "Enter the mass of the first object (in kg):  65\n",
      "Enter the mass of the second object (in kg):  102\n",
      "Enter the distance between the centers of the objects (in meters):  56\n"
     ]
    },
    {
     "name": "stdout",
     "output_type": "stream",
     "text": [
      "The gravitational force between the two objects is: 1.27e+01 N\n"
     ]
    }
   ],
   "source": [
    "G = 6\n",
    "m1 = float(input(\"Enter the mass of the first object (in kg): \"))\n",
    "m2 = float(input(\"Enter the mass of the second object (in kg): \"))\n",
    "r = float(input(\"Enter the distance between the centers of the objects (in meters): \"))\n",
    "force = (G * m1 * m2) / r**2\n",
    "print(f\"The gravitational force between the two objects is: {force:.2e} N\")"
   ]
  },
  {
   "cell_type": "markdown",
   "id": "21115d70-3a6d-48d6-9580-5ee170aa2333",
   "metadata": {},
   "source": [
    "# 16) Future value in savings"
   ]
  },
  {
   "cell_type": "code",
   "execution_count": 92,
   "id": "03e6a679-68d0-4ebf-9f53-6bf7c7a1c64e",
   "metadata": {},
   "outputs": [
    {
     "name": "stdin",
     "output_type": "stream",
     "text": [
      "Enter the present value (initial investment) in dollars:  300\n",
      "Enter the annual interest rate (as a decimal, e.g., 0.05 for 5%):  87\n",
      "Enter the time in years:  5\n"
     ]
    },
    {
     "name": "stdout",
     "output_type": "stream",
     "text": [
      "The future value of the investment is: $1583195750400.00\n"
     ]
    }
   ],
   "source": [
    "pv = float(input(\"Enter the present value (initial investment) in dollars: \"))\n",
    "r = float(input(\"Enter the annual interest rate (as a decimal, e.g., 0.05 for 5%): \"))\n",
    "t = float(input(\"Enter the time in years: \"))\n",
    "fv = pv * (1 + r)**t\n",
    "print(f\"The future value of the investment is: ${fv:.2f}\")"
   ]
  },
  {
   "cell_type": "markdown",
   "id": "e1f5a8fe-b056-4141-a687-dcf51f5d796a",
   "metadata": {},
   "source": [
    "# 17) Heat Transfer"
   ]
  },
  {
   "cell_type": "code",
   "execution_count": 95,
   "id": "ae4867f8-4731-4a8d-8c30-5e61dd3bbad9",
   "metadata": {},
   "outputs": [
    {
     "name": "stdin",
     "output_type": "stream",
     "text": [
      "Enter the mass (in kilograms):  65\n",
      "Enter the specific heat capacity (in J/kg°C):  30\n",
      "Enter the temperature change (in °C):  40\n"
     ]
    },
    {
     "name": "stdout",
     "output_type": "stream",
     "text": [
      "The amount of heat transferred is: 78000.00 joules\n"
     ]
    }
   ],
   "source": [
    "m = float(input(\"Enter the mass (in kilograms): \"))\n",
    "c = float(input(\"Enter the specific heat capacity (in J/kg°C): \"))\n",
    "T = float(input(\"Enter the temperature change (in °C): \"))\n",
    "Q = m * c * T\n",
    "print(f\"The amount of heat transferred is: {Q:.2f} joules\")"
   ]
  },
  {
   "cell_type": "markdown",
   "id": "da652048-fb71-44bc-8f6c-61c7ae654616",
   "metadata": {},
   "source": [
    "# 18) Compound interest"
   ]
  },
  {
   "cell_type": "code",
   "execution_count": 98,
   "id": "e0c82bb7-9b67-423f-b703-597d7cb2bfe7",
   "metadata": {},
   "outputs": [
    {
     "name": "stdin",
     "output_type": "stream",
     "text": [
      "Enter the principal amount (in dollars):  566\n",
      "Enter the annual interest rate (as a decimal, e.g., 0.05 for 5%):  65\n",
      "Enter the number of times the interest is compounded per year:  7\n",
      "Enter the time in years:  10\n"
     ]
    },
    {
     "name": "stdout",
     "output_type": "stream",
     "text": [
      "The total amount after 10.0 years is: $40665711979833066801172459336407250992922852780420024633420522697001009152.00\n",
      "The compound interest earned is: $40665711979833066801172459336407250992922852780420024633420522697001009152.00\n"
     ]
    }
   ],
   "source": [
    "P = float(input(\"Enter the principal amount (in dollars): \"))\n",
    "r = float(input(\"Enter the annual interest rate (as a decimal, e.g., 0.05 for 5%): \"))\n",
    "n = int(input(\"Enter the number of times the interest is compounded per year: \"))\n",
    "t = float(input(\"Enter the time in years: \"))\n",
    "A = P * (1 + r / n) ** (n * t)\n",
    "compound_interest = A - P\n",
    "print(f\"The total amount after {t} years is: ${A:.2f}\")\n",
    "print(f\"The compound interest earned is: ${compound_interest:.2f}\")\n"
   ]
  },
  {
   "cell_type": "markdown",
   "id": "66609839-5394-4bd5-8e66-dbd94691b83e",
   "metadata": {},
   "source": [
    "# 19) Perimeter of a circle(circumference)"
   ]
  },
  {
   "cell_type": "code",
   "execution_count": 103,
   "id": "1cc5f92d-b4a7-4d0b-a0cc-38574bd44c5a",
   "metadata": {},
   "outputs": [
    {
     "name": "stdin",
     "output_type": "stream",
     "text": [
      "Enter the radius of the circle:  31\n"
     ]
    },
    {
     "name": "stdout",
     "output_type": "stream",
     "text": [
      "The circumference of the circle is: 194.78\n"
     ]
    }
   ],
   "source": [
    "import math\n",
    "r = float(input(\"Enter the radius of the circle: \"))\n",
    "circumference = 2 * math.pi * r\n",
    "print(f\"The circumference of the circle is: {circumference:.2f}\")"
   ]
  },
  {
   "cell_type": "markdown",
   "id": "d15183cb-29bb-4990-a6f2-617e27061492",
   "metadata": {},
   "source": [
    "# 20) Volume of a cylinder"
   ]
  },
  {
   "cell_type": "code",
   "execution_count": 106,
   "id": "5886ec8d-ddfb-428a-9570-d71d8c1a833a",
   "metadata": {},
   "outputs": [
    {
     "name": "stdin",
     "output_type": "stream",
     "text": [
      "Enter the radius of the cylinder:  3\n",
      "Enter the height of the cylinder:  7\n"
     ]
    },
    {
     "name": "stdout",
     "output_type": "stream",
     "text": [
      "The volume of the cylinder is: 197.92\n"
     ]
    }
   ],
   "source": [
    "import math\n",
    "r = float(input(\"Enter the radius of the cylinder: \"))\n",
    "h = float(input(\"Enter the height of the cylinder: \"))\n",
    "volume = math.pi * r**2 * h\n",
    "print(f\"The volume of the cylinder is: {volume:.2f}\")"
   ]
  },
  {
   "cell_type": "code",
   "execution_count": null,
   "id": "be8a32d8-4ce3-4e3e-a5bf-15f2daf90e49",
   "metadata": {},
   "outputs": [],
   "source": []
  }
 ],
 "metadata": {
  "kernelspec": {
   "display_name": "Python 3 (ipykernel)",
   "language": "python",
   "name": "python3"
  },
  "language_info": {
   "codemirror_mode": {
    "name": "ipython",
    "version": 3
   },
   "file_extension": ".py",
   "mimetype": "text/x-python",
   "name": "python",
   "nbconvert_exporter": "python",
   "pygments_lexer": "ipython3",
   "version": "3.12.7"
  }
 },
 "nbformat": 4,
 "nbformat_minor": 5
}
